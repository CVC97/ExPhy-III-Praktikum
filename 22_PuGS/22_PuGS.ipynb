{
 "cells": [
  {
   "cell_type": "code",
   "execution_count": 2,
   "metadata": {},
   "outputs": [],
   "source": [
    "import sympy as sy\n",
    "import numpy as np\n",
    "import matplotlib.pyplot as plt\n",
    "\n",
    "nondef1, nondef2, nondef3, nondef4, nondef5 = sy.symbols('nondef1, nondef2, nondef3, nondef4, nondef5')      "
   ]
  },
  {
   "cell_type": "code",
   "execution_count": 3,
   "metadata": {},
   "outputs": [],
   "source": [
    "# Präfixe\n",
    "_nano = 10 ** (-9)\n",
    "_mikro = 10 ** (-6)\n",
    "_milli = 10 ** (-3)\n",
    "_centi = 10 ** (-2)\n",
    "_dezi = 10 ** (-1)\n",
    "\n",
    "_Kilo = 10 ** 3\n",
    "_Mega = 10 ** 6\n",
    "_Giga = 10 ** 9\n",
    "_Tera = 10 ** 12\n",
    "\n",
    "# Winkel\n",
    "_degree = 2*np.pi/360"
   ]
  },
  {
   "cell_type": "code",
   "execution_count": 4,
   "metadata": {},
   "outputs": [],
   "source": [
    "# feste Parameter und ihre Zahlenwerte: diese werden später in der Fehlerfunktion numerisch gemacht aber bleiben für die partiellen Ableitungen symbolisch\n",
    "g, pi, mu_0, G = sy.symbols('g, pi, mu_0, G')            \n",
    "                                                \n",
    "fix_parameters = {\n",
    "    G: 6.672 * 10 ** (-11),\n",
    "    g: 9.81, \n",
    "    pi: 3.141,\n",
    "    mu_0: 4 * np.pi * 10 **(-7),\n",
    "}   "
   ]
  },
  {
   "cell_type": "code",
   "execution_count": 5,
   "metadata": {},
   "outputs": [],
   "source": [
    "# verwendbare, symbolische Variablen, Zusätzliche einfach hinzufügen\n",
    "t, U0_sy, U90_sy, U0_ref_sy, U90_ref_sy, a, n1, n2, Dn, Sn, lam1, lam2, Bn = sy.symbols('t, U0_sy, U90_sy, U0_ref_sy, U90_ref_sy, a, n1, n2, Dn, Sn, lam1, lam2, Bn')                     "
   ]
  },
  {
   "cell_type": "code",
   "execution_count": 6,
   "metadata": {},
   "outputs": [],
   "source": [
    "def err_gauss(f, var1, x1, err1, var2=nondef1, x2=0, err2=0, var3=nondef2, x3=0, err3=0, var4=nondef3, x4=0, err4=0, var5=nondef4, x5=0, err5=0):\n",
    "    f_x1 = sy.diff(f, var1)\n",
    "    # print(f'Ableitung nach {var1}: {f_x1}')   \n",
    "    f_x1 = f_x1.subs({var2: x2, var3: x3, var4: x4, var5: x5})\n",
    "    f_x2 = sy.diff(f, var2)\n",
    "    # if f_x2 != 0:\n",
    "        # print(f'Ableitung nach {var2}: {f_x2}')   \n",
    "    f_x2 = f_x2.subs({var1: x1, var3: x3, var4: x4, var5: x5})\n",
    "    f_x3 = sy.diff(f, var3)\n",
    "    # if f_x3 != 0:\n",
    "        # print(f'Ableitung nach {var3}: {f_x3}')   \n",
    "    f_x3 = f_x3.subs({var1: x1, var2: x2, var4: x4, var5: x5})\n",
    "    f_x4 = sy.diff(f, var4)\n",
    "    # if f_x4 != 0:\n",
    "        # print(f'Ableitung nach {var4}: {f_x4}')   \n",
    "    f_x4 = f_x4.subs({var1: x1, var2: x2, var3: x3, var5: x5})\n",
    "    f_x5 = sy.diff(f, var5)\n",
    "    # if f_x5 != 0:\n",
    "        # print(f'Ableitung nach {var5}: {f_x5}')   \n",
    "    f_x5 = f_x5.subs({var1: x1, var2: x2, var3: x3, var4: x4})\n",
    "\n",
    "    # feste paramter numerisch machen\n",
    "    f = f.subs(fix_parameters)\n",
    "    f_x1 = f_x1.subs(fix_parameters)\n",
    "    f_x2 = f_x2.subs(fix_parameters)\n",
    "    f_x3 = f_x3.subs(fix_parameters)\n",
    "    f_x4 = f_x4.subs(fix_parameters)\n",
    "    f_x5 = f_x5.subs(fix_parameters)\n",
    "\n",
    "    value = f.subs({var1: x1, var2: x2, var3: x3, var4: x4, var5: x5})\n",
    "    error = (err1**2*(f_x1.subs(var1, x1))**2+err2**2*(f_x2.subs(var2, x2))**2+err3**2*(f_x3.subs(var3, x3))**2+err4**2*(f_x4.subs(var4, x4))**2+err5**2*(f_x5.subs(var5, x5))**2)**0.5\n",
    "    # print(f'Wert: {value} +/- Fehler: {error}')\n",
    "    return (value, error)"
   ]
  },
  {
   "cell_type": "code",
   "execution_count": 7,
   "metadata": {},
   "outputs": [],
   "source": [
    "def gew_mittel(ar_val, ar_err):\n",
    "    value_num = 0\n",
    "    sigma_denom = 0\n",
    "    for i in range(len(ar_val)):\n",
    "        value_num += ar_val[i]/ar_err[i]**2\n",
    "        sigma_denom += 1/ar_err[i]**2\n",
    "    value = value_num/sigma_denom\n",
    "    sigma = (1/sigma_denom)**0.5\n",
    "    print(f'gew. Mittelwert: {value} +/- sigma: {sigma}')\n",
    "    return (value, sigma)"
   ]
  },
  {
   "cell_type": "code",
   "execution_count": 8,
   "metadata": {},
   "outputs": [],
   "source": [
    "# data Prisma\n",
    "\n",
    "gamma = np.pi/3\n",
    "\n",
    "angle_err = 0.05*np.pi/180\n",
    "angle_green = (48+(21/30))*np.pi/180\n",
    "angle_yellow = (48.5+(1/3))*np.pi/180"
   ]
  },
  {
   "cell_type": "code",
   "execution_count": 9,
   "metadata": {},
   "outputs": [
    {
     "name": "stdout",
     "output_type": "stream",
     "text": [
      "n_green = 1.50252826700702 +- 0.00115192021745727\n",
      "n_yellow = 1.50559598307150 +- 0.00114886579258733\n"
     ]
    }
   ],
   "source": [
    "# Bestimmung Brechungsindex Prisma\n",
    "\n",
    "n_green, n_green_err = err_gauss(\n",
    "    sy.sin(a)/sy.sin(gamma/2),\n",
    "    a, angle_green, angle_err\n",
    ")\n",
    "n_yellow, n_yellow_err = err_gauss(\n",
    "    sy.sin(a)/sy.sin(gamma/2),\n",
    "    a, angle_yellow, angle_err\n",
    ")\n",
    "print(f'n_green = {n_green} +- {n_green_err}')\n",
    "print(f'n_yellow = {n_yellow} +- {n_yellow_err}')"
   ]
  },
  {
   "cell_type": "code",
   "execution_count": 10,
   "metadata": {},
   "outputs": [
    {
     "name": "stdout",
     "output_type": "stream",
     "text": [
      "D = 99310.9765125960 +- 52667.6213464876\n"
     ]
    }
   ],
   "source": [
    "# Bestimmung Dispersion Prisma\n",
    "\n",
    "lam_green = 576.96 * _nano\n",
    "lam_yellow = 546.07 * _nano\n",
    "\n",
    "D, D_err = err_gauss(\n",
    "    (n2-n1)/(lam_green-lam_yellow),\n",
    "    n1, n_green, n_green_err,\n",
    "    n2, n_yellow, n_yellow_err\n",
    ")\n",
    "\n",
    "print(f'D = {D} +- {D_err}')"
   ]
  },
  {
   "cell_type": "code",
   "execution_count": 18,
   "metadata": {},
   "outputs": [
    {
     "name": "stdout",
     "output_type": "stream",
     "text": [
      "experimentelles Auflösungsvermögen: Aexp = 353.037776143734 +- 187.230005494681\n",
      "maximales Auflösungsvermögen: Amax = 3277.26222491567 +- 1738.03150443409\n",
      "theoretisches Auflösungsvermögen: Atheo = 17.5475757575757 +- 0\n"
     ]
    }
   ],
   "source": [
    "# Bestimmung des Auflösevermögens Prisma\n",
    "\n",
    "S, S_err = ((2.14+0.20) * _milli, (0.005*(2)**0.5) * _milli)\n",
    "B_max = 33 * _milli\n",
    "\n",
    "A, A_err = err_gauss(\n",
    "    Dn*Sn/sy.cos(a),\n",
    "    Sn, S, S_err,\n",
    "    Dn, D, D_err,\n",
    "    a, angle_yellow, angle_err\n",
    ")\n",
    "\n",
    "A_max, A_max_err = err_gauss(\n",
    "    Bn * Dn,\n",
    "    Bn, B_max, 0,\n",
    "    Dn, D, D_err\n",
    ")\n",
    "\n",
    "lam_yellow2 = 579.07 * _nano\n",
    "\n",
    "A_theo, A_theo_err = err_gauss(\n",
    "    lam1 / (lam1 - lam2),\n",
    "    lam2, lam_yellow, 0,\n",
    "    lam1, lam_yellow2, 0\n",
    ")\n",
    "\n",
    "print(f'experimentelles Auflösungsvermögen: Aexp = {A} +- {A_err}')\n",
    "print(f'maximales Auflösungsvermögen: Amax = {A_max} +- {A_max_err}')\n",
    "print(f'theoretisches Auflösungsvermögen: Atheo = {A_theo} +- {A_theo_err}')"
   ]
  },
  {
   "cell_type": "code",
   "execution_count": 12,
   "metadata": {},
   "outputs": [
    {
     "name": "stdout",
     "output_type": "stream",
     "text": [
      "gew. Mittelwert: 2.04655536345380E-7 +/- sigma: 7.84743789802334E-8\n"
     ]
    }
   ],
   "source": [
    "# Berechnung Gitterkonstante\n",
    "gitter_angels = np.array([20+10/30, 19, 15+10/30, 30+21/30, 30, 26 + 12/30]) / _degree\n",
    "gitter_angel_err = 0.05 / _degree\n",
    "gitter_lambda = np.array([576.96, 546.07, 407.78, 576.96, 546.07, 407.78]) * _nano\n",
    "no_angels = np.array([1, 1, 1, 2, 2, 2])\n",
    "\n",
    "alfa, S, a = sy.symbols('alfa, S, a')\n",
    "\n",
    "gitterkonstanten = [err_gauss(\n",
    "    no_angels[i] * gitter_lambda[i] / sy.sin(alfa),\n",
    "    alfa, gitter_angels[i], gitter_angel_err,\n",
    ")[0] for i in range(len(no_angels))]\n",
    "\n",
    "gitterkonstanten_err = [err_gauss(\n",
    "    no_angels[i] * gitter_lambda[i] / sy.sin(alfa),\n",
    "    alfa, gitter_angels[i], gitter_angel_err,\n",
    ")[1] for i in range(len(no_angels))]\n",
    "\n",
    "gitterkonstante_gew_mittel = gew_mittel(gitterkonstanten, gitterkonstanten_err)"
   ]
  },
  {
   "cell_type": "code",
   "execution_count": 13,
   "metadata": {},
   "outputs": [
    {
     "data": {
      "text/plain": [
       "((8.39087699016059e-11, 3.22070232636838e-11),\n",
       " (3.88845519056223e-9, 1.49101320062443e-9))"
      ]
     },
     "execution_count": 13,
     "metadata": {},
     "output_type": "execute_result"
    }
   ],
   "source": [
    "# Anzahl beleuchteter Spalte\n",
    "gitter_N = err_gauss(\n",
    "    S*a,\n",
    "    S, 0.41*_milli, 0.005*_milli*np.sqrt(2),\n",
    "    a, gitterkonstante_gew_mittel[0], gitterkonstante_gew_mittel[1],\n",
    ")\n",
    "\n",
    "gitter_N_max = err_gauss(\n",
    "    1.9*_centi*a,\n",
    "    a, gitterkonstante_gew_mittel[0], gitterkonstante_gew_mittel[1],\n",
    ")\n",
    "\n",
    "gitter_N, gitter_N_max"
   ]
  }
 ],
 "metadata": {
  "kernelspec": {
   "display_name": "Python 3",
   "language": "python",
   "name": "python3"
  },
  "language_info": {
   "codemirror_mode": {
    "name": "ipython",
    "version": 3
   },
   "file_extension": ".py",
   "mimetype": "text/x-python",
   "name": "python",
   "nbconvert_exporter": "python",
   "pygments_lexer": "ipython3",
   "version": "3.10.6"
  },
  "orig_nbformat": 4,
  "vscode": {
   "interpreter": {
    "hash": "916dbcbb3f70747c44a77c7bcd40155683ae19c65e1c03b4aa3499c5328201f1"
   }
  }
 },
 "nbformat": 4,
 "nbformat_minor": 2
}
