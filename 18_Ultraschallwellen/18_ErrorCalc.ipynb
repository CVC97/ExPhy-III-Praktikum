{
 "cells": [
  {
   "cell_type": "code",
   "execution_count": 2,
   "metadata": {},
   "outputs": [],
   "source": [
    "import sympy as sy\n",
    "import numpy as np\n",
    "\n",
    "nondef1, nondef2, nondef3, nondef4, nondef5 = sy.symbols('nondef1, nondef2, nondef3, nondef4, nondef5')      "
   ]
  },
  {
   "cell_type": "code",
   "execution_count": 3,
   "metadata": {},
   "outputs": [],
   "source": [
    "# Präfixe\n",
    "_nano = 10 ** (-9)\n",
    "_mikro = 10 ** (-6)\n",
    "_milli = 10 ** (-3)\n",
    "_centi = 10 ** (-2)\n",
    "_dezi = 10 ** (-1)\n",
    "\n",
    "_Kilo = 10 ** 3\n",
    "_Mega = 10 ** 6\n",
    "_Giga = 10 ** 9\n",
    "_Tera = 10 ** 12\n",
    "\n",
    "# Winkel\n",
    "_degree = 2*np.pi/360"
   ]
  },
  {
   "cell_type": "code",
   "execution_count": 4,
   "metadata": {},
   "outputs": [],
   "source": [
    "# feste Parameter und ihre Zahlenwerte: diese werden später in der Fehlerfunktion numerisch gemacht aber bleiben für die partiellen Ableitungen symbolisch\n",
    "g, pi, mu_0, G = sy.symbols('g, pi, mu_0, G')            \n",
    "                                                \n",
    "fix_parameters = {\n",
    "    G: 6.672 * 10 ** (-11),\n",
    "    g: 9.81, \n",
    "    pi: 3.141,\n",
    "    mu_0: 4 * np.pi * 10 **(-7),\n",
    "}   "
   ]
  },
  {
   "cell_type": "code",
   "execution_count": 5,
   "metadata": {},
   "outputs": [],
   "source": [
    "# verwendbare, symbolische Variablen, Zusätzliche einfach hinzufügen\n",
    "t = sy.symbols('t')                     "
   ]
  },
  {
   "cell_type": "code",
   "execution_count": 6,
   "metadata": {},
   "outputs": [],
   "source": [
    "def err_gauss(f, var1, x1, err1, var2=nondef1, x2=0, err2=0, var3=nondef2, x3=0, err3=0, var4=nondef3, x4=0, err4=0, var5=nondef4, x5=0, err5=0):\n",
    "    f_x1 = sy.diff(f, var1)\n",
    "    print(f'Ableitung nach {var1}: {f_x1}')   \n",
    "    f_x1 = f_x1.subs({var2: x2, var3: x3, var4: x4, var5: x5})\n",
    "    f_x2 = sy.diff(f, var2)\n",
    "    if f_x2 != 0:\n",
    "        print(f'Ableitung nach {var2}: {f_x2}')   \n",
    "    f_x2 = f_x2.subs({var1: x1, var3: x3, var4: x4, var5: x5})\n",
    "    f_x3 = sy.diff(f, var3)\n",
    "    if f_x3 != 0:\n",
    "        print(f'Ableitung nach {var3}: {f_x3}')   \n",
    "    f_x3 = f_x3.subs({var1: x1, var2: x2, var4: x4, var5: x5})\n",
    "    f_x4 = sy.diff(f, var4)\n",
    "    if f_x4 != 0:\n",
    "        print(f'Ableitung nach {var4}: {f_x4}')   \n",
    "    f_x4 = f_x4.subs({var1: x1, var2: x2, var3: x3, var5: x5})\n",
    "    f_x5 = sy.diff(f, var5)\n",
    "    if f_x5 != 0:\n",
    "        print(f'Ableitung nach {var5}: {f_x5}')   \n",
    "    f_x5 = f_x5.subs({var1: x1, var2: x2, var3: x3, var4: x4})\n",
    "\n",
    "    # feste paramter numerisch machen\n",
    "    f = f.subs(fix_parameters)\n",
    "    f_x1 = f_x1.subs(fix_parameters)\n",
    "    f_x2 = f_x2.subs(fix_parameters)\n",
    "    f_x3 = f_x3.subs(fix_parameters)\n",
    "    f_x4 = f_x4.subs(fix_parameters)\n",
    "    f_x5 = f_x5.subs(fix_parameters)\n",
    "\n",
    "    value = f.subs({var1: x1, var2: x2, var3: x3, var4: x4, var5: x5})\n",
    "    error = (err1**2*(f_x1.subs(var1, x1))**2+err2**2*(f_x2.subs(var2, x2))**2+err3**2*(f_x3.subs(var3, x3))**2+err4**2*(f_x4.subs(var4, x4))**2+err5**2*(f_x5.subs(var5, x5))**2)**0.5\n",
    "    print(f'Wert: {value} +/- Fehler: {error}')\n",
    "    return (value, error)"
   ]
  },
  {
   "cell_type": "code",
   "execution_count": 7,
   "metadata": {},
   "outputs": [],
   "source": [
    "def gew_mittel(ar_val, ar_err):\n",
    "    value_num = 0\n",
    "    sigma_denom = 0\n",
    "    for i in range(len(ar_val)):\n",
    "        value_num += ar_val[i]/ar_err[i]**2\n",
    "        sigma_denom += 1/ar_err[i]**2\n",
    "    value = value_num/sigma_denom\n",
    "    sigma = (1/sigma_denom)**0.5\n",
    "    print(f'gew. Mittelwert: {value} +/- sigma: {sigma}')\n",
    "    return (value, sigma)"
   ]
  },
  {
   "cell_type": "code",
   "execution_count": 8,
   "metadata": {},
   "outputs": [
    {
     "name": "stdout",
     "output_type": "stream",
     "text": [
      "Ableitung nach t: g*pi**3*t\n",
      "Wert: 15199.9731544005 +/- Fehler: 60799.8926176020\n"
     ]
    },
    {
     "data": {
      "text/plain": [
       "(15199.9731544005, 60799.8926176020)"
      ]
     },
     "execution_count": 8,
     "metadata": {},
     "output_type": "execute_result"
    }
   ],
   "source": [
    "# Beispielaufruf der Funktion zur Gauß'schen Fehlerrechnung\n",
    "# Rückgabenwert: Tupel aus berechnetem Wert und seinem Fehler\n",
    "\n",
    "err_gauss(\n",
    "    g/2*t**2*pi**3,                 # Funktion: benötigt die oben definierten, symbolischen Variablen\n",
    "    t, 10, 20,                      # Variable, Wert der Variable, Fehler der Variable\n",
    ")"
   ]
  },
  {
   "cell_type": "code",
   "execution_count": 9,
   "metadata": {},
   "outputs": [
    {
     "name": "stdout",
     "output_type": "stream",
     "text": [
      "gew. Mittelwert: 10.000000044444445 +/- sigma: 0.0009999999977777778\n"
     ]
    },
    {
     "data": {
      "text/plain": [
       "(10.000000044444445, 0.0009999999977777778)"
      ]
     },
     "execution_count": 9,
     "metadata": {},
     "output_type": "execute_result"
    }
   ],
   "source": [
    "# Rückgabewert: Tupel aus gewichteten Mittelwert und seinem Fehler\n",
    "\n",
    "gew_mittel(\n",
    "    [10, 20],                       # Liste/Array mit Werten\n",
    "    [0.001, 15]                     # Liste/Array mit Fehlern der Werte\n",
    ")"
   ]
  },
  {
   "cell_type": "code",
   "execution_count": 10,
   "metadata": {},
   "outputs": [],
   "source": [
    "v_tot, v_max, alpha_tot, alpha_max = sy.symbols('v_tot, v_max, alpha_tot, alpha_max')\n",
    "\n",
    "v_Ph = 1480"
   ]
  },
  {
   "cell_type": "code",
   "execution_count": 11,
   "metadata": {},
   "outputs": [
    {
     "name": "stdout",
     "output_type": "stream",
     "text": [
      "Ableitung nach alpha_tot: -1480*cos(alpha_tot)/sin(alpha_tot)**2\n",
      "Wert: 2580.30125751923 +/- Fehler: 160.790730531856\n",
      "Ableitung nach alpha_tot: -1480*cos(alpha_tot)/sin(alpha_tot)**2\n",
      "Wert: 1480.00000000000 +/- Fehler: 3.95421198153923E-15\n",
      "Ableitung nach alpha_max: -1046.51803615609*cos(alpha_max)/sin(alpha_max)**2\n",
      "Wert: 1366.13227281586 +/- Fehler: 50.0176931006511\n"
     ]
    },
    {
     "data": {
      "text/plain": [
       "(1366.13227281586, 50.0176931006511)"
      ]
     },
     "execution_count": 11,
     "metadata": {},
     "output_type": "execute_result"
    }
   ],
   "source": [
    "# Polyacryl\n",
    "\n",
    "# v_tot_longi\n",
    "err_gauss (\n",
    "    v_Ph/sy.sin(alpha_tot),\n",
    "    alpha_tot, 35*_degree, 2.5*_degree,\n",
    ")\n",
    "\n",
    "# v_tot_longi\n",
    "err_gauss (\n",
    "    v_Ph/sy.sin(alpha_tot),\n",
    "    alpha_tot, 90*_degree, 2.5*_degree,\n",
    ")\n",
    "\n",
    "err_gauss (\n",
    "    v_Ph/np.sqrt(2)/sy.sin(alpha_max),\n",
    "    alpha_max, 50*_degree, 2.5*_degree,\n",
    ")"
   ]
  },
  {
   "cell_type": "code",
   "execution_count": 12,
   "metadata": {},
   "outputs": [
    {
     "name": "stdout",
     "output_type": "stream",
     "text": [
      "Ableitung nach alpha_tot: -1480*cos(alpha_tot)/sin(alpha_tot)**2\n",
      "Wert: 3501.97834306570 +/- Fehler: 327.686299758965\n",
      "Ableitung nach alpha_tot: -1480*cos(alpha_tot)/sin(alpha_tot)**2\n",
      "Wert: 2302.47126375341 +/- Fehler: 119.728644227474\n",
      "Ableitung nach alpha_max: -1046.51803615609*cos(alpha_max)/sin(alpha_max)**2\n",
      "Wert: 3059.81403896321 +/- Fehler: 366.814539012518\n"
     ]
    },
    {
     "data": {
      "text/plain": [
       "(3059.81403896321, 366.814539012518)"
      ]
     },
     "execution_count": 12,
     "metadata": {},
     "output_type": "execute_result"
    }
   ],
   "source": [
    "# Aluminium\n",
    "\n",
    "# v_tot_longi\n",
    "err_gauss (\n",
    "    v_Ph/sy.sin(alpha_tot),\n",
    "    alpha_tot, 25*_degree, 2.5*_degree,\n",
    ")\n",
    "\n",
    "# v_tot_longi\n",
    "err_gauss (\n",
    "    v_Ph/sy.sin(alpha_tot),\n",
    "    alpha_tot, 40*_degree, 2.5*_degree,\n",
    ")\n",
    "\n",
    "err_gauss (\n",
    "    v_Ph/np.sqrt(2)/sy.sin(alpha_max),\n",
    "    alpha_max, 20*_degree, 2.5*_degree,\n",
    ")"
   ]
  },
  {
   "cell_type": "code",
   "execution_count": 19,
   "metadata": {},
   "outputs": [
    {
     "data": {
      "text/plain": [
       "(2437.6991099765196, 6406.619710846196, 1195.2286093343937, 3162.2776601683795)"
      ]
     },
     "execution_count": 19,
     "metadata": {},
     "output_type": "execute_result"
    }
   ],
   "source": [
    "rho = [1.19/_Kilo/_centi**3, 2.7/_Kilo/_centi**3]\n",
    "G = [1700*_Mega, 27000*_Mega]\n",
    "E = [3300*_Mega, 72000*_Mega]\n",
    "my = [0.4, 0.34]\n",
    "\n",
    "vL_Polyac = np.sqrt(E[0]*(1-my[0]) / (rho[0]*(1+my[0])*(1-2*my[0])))\n",
    "vL_Alu = np.sqrt(E[1]*(1-my[1]) / (rho[1]*(1+my[1])*(1-2*my[1])))\n",
    "\n",
    "vT_Polyac = np.sqrt(G[0] / rho[0])\n",
    "vT_Alu = np.sqrt(G[1] / rho[1])\n",
    "\n",
    "vL_Polyac, vL_Alu, vT_Polyac, vT_Alu"
   ]
  }
 ],
 "metadata": {
  "interpreter": {
   "hash": "31f2aee4e71d21fbe5cf8b01ff0e069b9275f58929596ceb00d14d90e3e16cd6"
  },
  "kernelspec": {
   "display_name": "Python 3.8.10 64-bit",
   "language": "python",
   "name": "python3"
  },
  "language_info": {
   "codemirror_mode": {
    "name": "ipython",
    "version": 3
   },
   "file_extension": ".py",
   "mimetype": "text/x-python",
   "name": "python",
   "nbconvert_exporter": "python",
   "pygments_lexer": "ipython3",
   "version": "3.10.6"
  },
  "orig_nbformat": 4
 },
 "nbformat": 4,
 "nbformat_minor": 2
}
