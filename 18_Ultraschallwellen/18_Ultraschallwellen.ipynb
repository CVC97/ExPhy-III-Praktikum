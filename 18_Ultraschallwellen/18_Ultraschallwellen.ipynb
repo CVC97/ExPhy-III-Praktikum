{
 "cells": [
  {
   "cell_type": "code",
   "execution_count": 1,
   "metadata": {},
   "outputs": [],
   "source": [
    "import numpy as np\n",
    "import sympy as sy\n",
    "\n",
    "from scipy import optimize\n",
    "import pandas as pd\n",
    "from scipy.optimize import curve_fit\n",
    "\n",
    "input1 = 'V18_2.txt'\n",
    "input2 = 'V18_3.txt'\n",
    "\n",
    "x1 = np.loadtxt(input, float, usecols=0, skiprows=3, delimiter=',')\n",
    "y1 = np.loadtxt(input, float, usecols=1, skiprows=3, delimiter=',')\n",
    "\n",
    "x2 = np.loadtxt(input, float, usecols=0, skiprows=3, delimiter=',')\n",
    "y2 = np.loadtxt(input, float, usecols=1, skiprows=3, delimiter=',')\n",
    "\n"
   ]
  }
 ],
 "metadata": {
  "kernelspec": {
   "display_name": "Python 3.10.6 64-bit",
   "language": "python",
   "name": "python3"
  },
  "language_info": {
   "codemirror_mode": {
    "name": "ipython",
    "version": 3
   },
   "file_extension": ".py",
   "mimetype": "text/x-python",
   "name": "python",
   "nbconvert_exporter": "python",
   "pygments_lexer": "ipython3",
   "version": "3.10.6 (main, Nov  2 2022, 18:53:38) [GCC 11.3.0]"
  },
  "orig_nbformat": 4,
  "vscode": {
   "interpreter": {
    "hash": "916dbcbb3f70747c44a77c7bcd40155683ae19c65e1c03b4aa3499c5328201f1"
   }
  }
 },
 "nbformat": 4,
 "nbformat_minor": 2
}
