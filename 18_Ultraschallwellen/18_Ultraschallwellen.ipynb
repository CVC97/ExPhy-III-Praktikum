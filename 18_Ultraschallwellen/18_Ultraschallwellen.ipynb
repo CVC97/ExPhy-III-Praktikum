{
 "cells": [
  {
   "cell_type": "code",
   "execution_count": 1,
   "metadata": {},
   "outputs": [
    {
     "ename": "SyntaxError",
     "evalue": "invalid syntax (2492467594.py, line 26)",
     "output_type": "error",
     "traceback": [
      "\u001b[0;36m  Input \u001b[0;32mIn [1]\u001b[0;36m\u001b[0m\n\u001b[0;31m    ax.errorbar(x1, y11, xerr = , yerr = , fmt = '.', color = 'black', alpha = 0.75, linewidth=1, ecolor=\"black\", capsize=3, label = 'Messwerte mit Fehlerbalken')\u001b[0m\n\u001b[0m                                ^\u001b[0m\n\u001b[0;31mSyntaxError\u001b[0m\u001b[0;31m:\u001b[0m invalid syntax\n"
     ]
    }
   ],
   "source": [
    "import numpy as np\n",
    "import sympy as sy\n",
    "from scipy import optimize\n",
    "from scipy.optimize import curve_fit\n",
    "\n",
    "input1 = 'V18_2.txt'\n",
    "input2 = 'V18_3.txt'\n",
    "\n",
    "x1 = np.loadtxt(input, float, usecols=0, skiprows=3, delimiter=',')\n",
    "y11 = np.loadtxt(input, float, usecols=1, skiprows=3, delimiter=',')\n",
    "y12 = np.loadtxt(input, float, usecols=2, skiprows=3, delimiter=',')\n",
    "\n",
    "x2 = np.loadtxt(input, float, usecols=0, skiprows=3, delimiter=',')\n",
    "y21 = np.loadtxt(input, float, usecols=1, skiprows=3, delimiter=',')\n",
    "y22 = np.loadtxt(input, float, usecols=2, skiprows=3, delimiter=',')\n",
    "\n",
    "fig, ax = plt.subplots(figsize=(7.5,5))\n",
    "#xplot1 = np.linspace(min(x1), max(x1), 1000)\n",
    "#xplot2 = np.linspace(min(x2), max(x2), 1000)\n",
    "\n",
    "ax.set_xlabel(r'$\\varphi$ in rad')\n",
    "ax.set_ylabel(r'$U$ in V')\n",
    "ax.grid()\n",
    "ax.grid(which='minor', color='#999999', alpha=0.2, linestyle='-')\n",
    "ax.minorticks_on()\n",
    "ax.errorbar(x1, y11, xerr = , yerr = , fmt = '.', color = 'black', alpha = 0.75, linewidth=1, ecolor=\"black\", capsize=3, label = 'Messwerte mit Fehlerbalken')\n",
    "ax.errorbar(x1, y12, xerr = , yerr = , fmt = '.', color = 'black', alpha = 0.75, linewidth=1, ecolor=\"black\", capsize=3, label = 'Messwerte mit Fehlerbalken')\n",
    "ax.legend()\n",
    "ax.legend()\n",
    "#plt.savefig('./V18_1.pgf', facecolor = 'white', bbox_inches='tight')\n",
    "plt.show()\n",
    "\n",
    "ax.set_xlabel(r'$\\varphi$ in rad')\n",
    "ax.set_ylabel(r'$U$ in V')\n",
    "ax.grid()\n",
    "ax.grid(which='minor', color='#999999', alpha=0.2, linestyle='-')\n",
    "ax.minorticks_on()\n",
    "ax.errorbar(x2, y21, xerr = , yerr = , fmt = '.', color = 'black', alpha = 0.75, linewidth=1, ecolor=\"black\", capsize=3, label = 'Messwerte mit Fehlerbalken')\n",
    "ax.errorbar(x2, y22, xerr = , yerr = , fmt = '.', color = 'black', alpha = 0.75, linewidth=1, ecolor=\"black\", capsize=3, label = 'Messwerte mit Fehlerbalken')\n",
    "ax.legend()\n",
    "ax.legend()\n",
    "#plt.savefig('./V18_2.pgf', facecolor = 'white', bbox_inches='tight')\n",
    "plt.show()"
   ]
  }
 ],
 "metadata": {
  "kernelspec": {
   "display_name": "Python 3.10.6 64-bit",
   "language": "python",
   "name": "python3"
  },
  "language_info": {
   "codemirror_mode": {
    "name": "ipython",
    "version": 3
   },
   "file_extension": ".py",
   "mimetype": "text/x-python",
   "name": "python",
   "nbconvert_exporter": "python",
   "pygments_lexer": "ipython3",
   "version": "3.10.6"
  },
  "orig_nbformat": 4,
  "vscode": {
   "interpreter": {
    "hash": "916dbcbb3f70747c44a77c7bcd40155683ae19c65e1c03b4aa3499c5328201f1"
   }
  }
 },
 "nbformat": 4,
 "nbformat_minor": 2
}
