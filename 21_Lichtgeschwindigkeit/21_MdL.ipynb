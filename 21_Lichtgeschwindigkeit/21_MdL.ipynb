{
 "cells": [
  {
   "cell_type": "code",
   "execution_count": 10,
   "metadata": {},
   "outputs": [
    {
     "name": "stdout",
     "output_type": "stream",
     "text": [
      "[50. 55. 60. 65. 70. 75. 80. 85. 90. 95.] [3.6  3.94 4.3  4.62 4.98 5.34 5.72 6.06 6.4  6.8 ]\n"
     ]
    }
   ],
   "source": [
    "import numpy as np\n",
    "import matplotlib as plt\n",
    "\n",
    "input = 'V21_3.txt'\n",
    "d = np.loadtxt(input, float, usecols=0, skiprows=3, delimiter=',')\n",
    "dt = np.loadtxt(input, float, usecols=1, skiprows=3, delimiter=',')\n",
    "\n",
    "fig, ax = plt.subplots(figsize=(7.5,5))\n",
    "\n",
    "xplot_1_1 = np.linspace(min(V1_1_x), max(V1_1_x), 1000)\n",
    "\n",
    "ax.set_xlabel(r'Distanz in cm')\n",
    "ax.set_ylabel(r'$\\Delta t$ in s')\n",
    "ax.grid()\n",
    "ax.grid(which='minor', color='#999999', alpha=0.2, linestyle='-')\n",
    "ax.minorticks_on()\n",
    "#ax.plot(d, E1(xplot_1_1, *popt_1_1), color = 'red', alpha = 0.75, linewidth = 1, label = 'Regression')\n",
    "#ax.errorbar(V1_1_x, V1_1_E, xerr = 0.1, yerr = 0.5, fmt = '.', color = 'black', alpha = 0.75, linewidth=1, ecolor=\"black\", capsize=3, label = 'gemessene Feldstärke mit Fehlern')\n",
    "ax.legend()\n",
    "ax.legend(loc=\"lower left\")\n",
    "#plt.savefig('./V21_1.pgf', facecolor = 'white', bbox_inches='tight')\n",
    "plt.show()"
   ]
  }
 ],
 "metadata": {
  "kernelspec": {
   "display_name": "Python 3.10.6 64-bit",
   "language": "python",
   "name": "python3"
  },
  "language_info": {
   "codemirror_mode": {
    "name": "ipython",
    "version": 3
   },
   "file_extension": ".py",
   "mimetype": "text/x-python",
   "name": "python",
   "nbconvert_exporter": "python",
   "pygments_lexer": "ipython3",
   "version": "3.10.6"
  },
  "orig_nbformat": 4,
  "vscode": {
   "interpreter": {
    "hash": "916dbcbb3f70747c44a77c7bcd40155683ae19c65e1c03b4aa3499c5328201f1"
   }
  }
 },
 "nbformat": 4,
 "nbformat_minor": 2
}
