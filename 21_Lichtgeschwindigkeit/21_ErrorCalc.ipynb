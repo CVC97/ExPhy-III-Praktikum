{
 "cells": [
  {
   "cell_type": "code",
   "execution_count": 2,
   "metadata": {},
   "outputs": [],
   "source": [
    "import sympy as sy\n",
    "import numpy as np\n",
    "\n",
    "nondef1, nondef2, nondef3, nondef4, nondef5 = sy.symbols('nondef1, nondef2, nondef3, nondef4, nondef5')      "
   ]
  },
  {
   "cell_type": "code",
   "execution_count": 11,
   "metadata": {},
   "outputs": [],
   "source": [
    "# Präfixe\n",
    "_nano = 10 ** (-9)\n",
    "_mikro = 10 ** (-6)\n",
    "_milli = 10 ** (-3)\n",
    "_centi = 10 ** (-2)\n",
    "_dezi = 10 ** (-1)\n",
    "\n",
    "_Kilo = 10 ** 3\n",
    "_Mega = 10 ** 6\n",
    "_Giga = 10 ** 9\n",
    "_Tera = 10 ** 12"
   ]
  },
  {
   "cell_type": "code",
   "execution_count": 4,
   "metadata": {},
   "outputs": [],
   "source": [
    "# feste Parameter und ihre Zahlenwerte: diese werden später in der Fehlerfunktion numerisch gemacht aber bleiben für die partiellen Ableitungen symbolisch\n",
    "g, pi, mu_0, G = sy.symbols('g, pi, mu_0, G')            \n",
    "                                                \n",
    "fix_parameters = {\n",
    "    G: 6.672 * 10 ** (-11),\n",
    "    g: 9.81, \n",
    "    pi: 3.141,\n",
    "    mu_0: 4 * np.pi * 10 **(-7),\n",
    "}   "
   ]
  },
  {
   "cell_type": "code",
   "execution_count": 5,
   "metadata": {},
   "outputs": [],
   "source": [
    "# verwendbare, symbolische Variablen, Zusätzliche einfach hinzufügen\n",
    "t = sy.symbols('t')                     "
   ]
  },
  {
   "cell_type": "code",
   "execution_count": 6,
   "metadata": {},
   "outputs": [],
   "source": [
    "def err_gauss(f, var1, x1, err1, var2=nondef1, x2=0, err2=0, var3=nondef2, x3=0, err3=0, var4=nondef3, x4=0, err4=0, var5=nondef4, x5=0, err5=0):\n",
    "    f_x1 = sy.diff(f, var1)\n",
    "    print(f'Ableitung nach {var1}: {f_x1}')   \n",
    "    f_x1 = f_x1.subs({var2: x2, var3: x3, var4: x4, var5: x5})\n",
    "    f_x2 = sy.diff(f, var2)\n",
    "    if f_x2 != 0:\n",
    "        print(f'Ableitung nach {var2}: {f_x2}')   \n",
    "    f_x2 = f_x2.subs({var1: x1, var3: x3, var4: x4, var5: x5})\n",
    "    f_x3 = sy.diff(f, var3)\n",
    "    if f_x3 != 0:\n",
    "        print(f'Ableitung nach {var3}: {f_x3}')   \n",
    "    f_x3 = f_x3.subs({var1: x1, var2: x2, var4: x4, var5: x5})\n",
    "    f_x4 = sy.diff(f, var4)\n",
    "    if f_x4 != 0:\n",
    "        print(f'Ableitung nach {var4}: {f_x4}')   \n",
    "    f_x4 = f_x4.subs({var1: x1, var2: x2, var3: x3, var5: x5})\n",
    "    f_x5 = sy.diff(f, var5)\n",
    "    if f_x5 != 0:\n",
    "        print(f'Ableitung nach {var5}: {f_x5}')   \n",
    "    f_x5 = f_x5.subs({var1: x1, var2: x2, var3: x3, var4: x4})\n",
    "\n",
    "    # feste paramter numerisch machen\n",
    "    f = f.subs(fix_parameters)\n",
    "    f_x1 = f_x1.subs(fix_parameters)\n",
    "    f_x2 = f_x2.subs(fix_parameters)\n",
    "    f_x3 = f_x3.subs(fix_parameters)\n",
    "    f_x4 = f_x4.subs(fix_parameters)\n",
    "    f_x5 = f_x5.subs(fix_parameters)\n",
    "\n",
    "    value = f.subs({var1: x1, var2: x2, var3: x3, var4: x4, var5: x5})\n",
    "    error = (err1**2*(f_x1.subs(var1, x1))**2+err2**2*(f_x2.subs(var2, x2))**2+err3**2*(f_x3.subs(var3, x3))**2+err4**2*(f_x4.subs(var4, x4))**2+err5**2*(f_x5.subs(var5, x5))**2)**0.5\n",
    "    print(f'Wert: {value} +/- Fehler: {error}')\n",
    "    return (value, error)"
   ]
  },
  {
   "cell_type": "code",
   "execution_count": 7,
   "metadata": {},
   "outputs": [],
   "source": [
    "def gew_mittel(ar_val, ar_err):\n",
    "    value_num = 0\n",
    "    sigma_denom = 0\n",
    "    for i in range(len(ar_val)):\n",
    "        value_num += ar_val[i]/ar_err[i]**2\n",
    "        sigma_denom += 1/ar_err[i]**2\n",
    "    value = value_num/sigma_denom\n",
    "    sigma = (1/sigma_denom)**0.5\n",
    "    print(f'gew. Mittelwert: {value} +/- sigma: {sigma}')\n",
    "    return (value, sigma)"
   ]
  },
  {
   "cell_type": "code",
   "execution_count": 8,
   "metadata": {},
   "outputs": [
    {
     "name": "stdout",
     "output_type": "stream",
     "text": [
      "Ableitung nach t: g*pi**3*t\n",
      "Wert: 15199.9731544005 +/- Fehler: 60799.8926176020\n"
     ]
    },
    {
     "data": {
      "text/plain": [
       "(15199.9731544005, 60799.8926176020)"
      ]
     },
     "execution_count": 8,
     "metadata": {},
     "output_type": "execute_result"
    }
   ],
   "source": [
    "# Beispielaufruf der Funktion zur Gauß'schen Fehlerrechnung\n",
    "# Rückgabenwert: Tupel aus berechnetem Wert und seinem Fehler\n",
    "\n",
    "err_gauss(\n",
    "    g/2*t**2*pi**3,                 # Funktion: benötigt die oben definierten, symbolischen Variablen\n",
    "    t, 10, 20,                      # Variable, Wert der Variable, Fehler der Variable\n",
    ")"
   ]
  },
  {
   "cell_type": "code",
   "execution_count": 21,
   "metadata": {},
   "outputs": [
    {
     "name": "stdout",
     "output_type": "stream",
     "text": [
      "gew. Mittelwert: 0.2308 +/- sigma: 0.00031304951684997057\n",
      "gew. Mittelwert: 0.13580000000000003 +/- sigma: 0.00031304951684997057\n"
     ]
    }
   ],
   "source": [
    "# Rückgabewert: Tupel aus gewichteten Mittelwert und seinem Fehler\n",
    "Delta_s_Acryl = abs(np.array([75 - 96, 75 - 99.7, 75 - 98.4, 75 - 99.5, 75 - 96.8]))*_centi\n",
    "Delta_s_Wasser = abs(np.array([75 - 89.7, 75- 88.7, 75 - 87.4, 75 - 88.0, 75 - 89.1]))*_centi\n",
    "Delta_s_err = np.array([0.7*_milli for i in range(len(Delta_s_Wasser))])\n",
    "\n",
    "DAcryl = gew_mittel(\n",
    "    Delta_s_Acryl,                       # Liste/Array mit Werten\n",
    "    Delta_s_err                     # Liste/Array mit Fehlern der Werte\n",
    ")\n",
    "\n",
    "\n",
    "DWasser = gew_mittel(\n",
    "    Delta_s_Wasser,                       # Liste/Array mit Werten\n",
    "    Delta_s_err                     # Liste/Array mit Fehlern der Werte\n",
    ")\n",
    "\n"
   ]
  },
  {
   "cell_type": "code",
   "execution_count": 13,
   "metadata": {},
   "outputs": [
    {
     "data": {
      "text/plain": [
       "0.0007071067811865476"
      ]
     },
     "execution_count": 13,
     "metadata": {},
     "output_type": "execute_result"
    }
   ],
   "source": [
    "np.sqrt(2)*0.05*_centi"
   ]
  },
  {
   "cell_type": "code",
   "execution_count": 28,
   "metadata": {},
   "outputs": [
    {
     "name": "stdout",
     "output_type": "stream",
     "text": [
      "Ableitung nach v_l: l_Ac/(DAc + l_Ac)\n",
      "Ableitung nach l_Ac: -l_Ac*v_l/(DAc + l_Ac)**2 + v_l/(DAc + l_Ac)\n",
      "Ableitung nach DAc: -l_Ac*v_l/(DAc + l_Ac)**2\n",
      "Wert: 191805632.630411 +/- Fehler: 117577.404557602\n",
      "Ableitung nach v_l: l_Wa/(DWa + l_Wa)\n",
      "Ableitung nach l_Wa: -l_Wa*v_l/(DWa + l_Wa)**2 + v_l/(DWa + l_Wa)\n",
      "Ableitung nach DWa: -l_Wa*v_l/(DWa + l_Wa)**2\n",
      "Wert: 221885813.148789 +/- Fehler: 134683.572736910\n",
      "Ableitung nach v_l: 1/vA\n",
      "Ableitung nach vA: -v_l/vA**2\n",
      "Wert: 1.47102040816327 +/- Fehler: 0.000993527911541529\n",
      "Ableitung nach v_l: 1/vA\n",
      "Ableitung nach vA: -v_l/vA**2\n",
      "Wert: 1.27160000000000 +/- Fehler: 0.000851911451224326\n"
     ]
    },
    {
     "data": {
      "text/plain": [
       "(1.27160000000000, 0.000851911451224326)"
      ]
     },
     "execution_count": 28,
     "metadata": {},
     "output_type": "execute_result"
    }
   ],
   "source": [
    "v_l, l_Ac, l_Wa, DWa, DAc, vA, vW = sy.symbols('v_l, l_Ac, l_Wa, DWa, DAc, vA, vW')\n",
    "\n",
    "\n",
    "v_Ac = err_gauss(\n",
    "    v_l*l_Ac/(l_Ac+DAc),\n",
    "    v_l, 0.28215*_Giga, 0.00008*_Giga,\n",
    "    l_Ac, 49*_centi, 0.05*_centi,\n",
    "    DAc, DAcryl[0], DAcryl[1],\n",
    ")\n",
    "\n",
    "\n",
    "v_Wa = err_gauss(\n",
    "    v_l*l_Wa/(l_Wa+DWa),\n",
    "    v_l, 0.28215*_Giga, 0.00008*_Giga,\n",
    "    l_Wa, 50*_centi, 0.05*_centi,\n",
    "    DWa, DWasser[0], DWasser[1],\n",
    ")\n",
    "\n",
    "\n",
    "err_gauss(\n",
    "    v_l/vA,\n",
    "    v_l, 0.28215*_Giga, 0.00008*_Giga,\n",
    "    vA, v_Ac[0], v_Ac[1]\n",
    ")\n",
    "\n",
    "\n",
    "err_gauss(\n",
    "    v_l/vA,\n",
    "    v_l, 0.28215*_Giga, 0.00008*_Giga,\n",
    "    vA, v_Wa[0], v_Wa[1]\n",
    ")"
   ]
  }
 ],
 "metadata": {
  "interpreter": {
   "hash": "31f2aee4e71d21fbe5cf8b01ff0e069b9275f58929596ceb00d14d90e3e16cd6"
  },
  "kernelspec": {
   "display_name": "Python 3.8.10 64-bit",
   "language": "python",
   "name": "python3"
  },
  "language_info": {
   "codemirror_mode": {
    "name": "ipython",
    "version": 3
   },
   "file_extension": ".py",
   "mimetype": "text/x-python",
   "name": "python",
   "nbconvert_exporter": "python",
   "pygments_lexer": "ipython3",
   "version": "3.10.6"
  },
  "orig_nbformat": 4
 },
 "nbformat": 4,
 "nbformat_minor": 2
}
