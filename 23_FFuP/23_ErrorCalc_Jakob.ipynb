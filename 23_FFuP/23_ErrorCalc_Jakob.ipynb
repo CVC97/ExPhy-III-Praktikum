{
 "cells": [
  {
   "cell_type": "code",
   "execution_count": 2,
   "metadata": {},
   "outputs": [],
   "source": [
    "import sympy as sy\n",
    "import numpy as np\n",
    "\n",
    "nondef1, nondef2, nondef3, nondef4, nondef5 = sy.symbols('nondef1, nondef2, nondef3, nondef4, nondef5')      "
   ]
  },
  {
   "cell_type": "code",
   "execution_count": 3,
   "metadata": {},
   "outputs": [],
   "source": [
    " # feste Parameter und ihre Zahlenwerte: diese werden später in der Fehlerfunktion numerisch gemacht aber bleiben für die partiellen Ableitungen symbolisch\n",
    "g, pi, mu_0, G = sy.symbols('g, pi, mu_0, G')            \n",
    "                                                \n",
    "fix_parameters = {\n",
    "    G: 6.672 * 10 ** (-11),\n",
    "    g: 9.81, \n",
    "    pi: 3.141,\n",
    "    mu_0: 4 * np.pi * 10 **(-7),\n",
    "}   "
   ]
  },
  {
   "cell_type": "code",
   "execution_count": 4,
   "metadata": {},
   "outputs": [],
   "source": [
    "# verwendbare, symbolische Variablen, Zusätzliche einfach hinzufügen\n",
    "t, a, b = sy.symbols('t, a , b')                     "
   ]
  },
  {
   "cell_type": "code",
   "execution_count": 5,
   "metadata": {},
   "outputs": [],
   "source": [
    "def err_gauss(f, var1, x1, err1, var2=nondef1, x2=0, err2=0, var3=nondef2, x3=0, err3=0, var4=nondef3, x4=0, err4=0, var5=nondef4, x5=0, err5=0):\n",
    "    f_x1 = sy.diff(f, var1)\n",
    "    print(f'Ableitung nach {var1}: {f_x1}')   \n",
    "    f_x1 = f_x1.subs({var2: x2, var3: x3, var4: x4, var5: x5})\n",
    "    f_x2 = sy.diff(f, var2)\n",
    "    if f_x2 != 0:\n",
    "        print(f'Ableitung nach {var2}: {f_x2}')   \n",
    "    f_x2 = f_x2.subs({var1: x1, var3: x3, var4: x4, var5: x5})\n",
    "    f_x3 = sy.diff(f, var3)\n",
    "    if f_x3 != 0:\n",
    "        print(f'Ableitung nach {var3}: {f_x3}')   \n",
    "    f_x3 = f_x3.subs({var1: x1, var2: x2, var4: x4, var5: x5})\n",
    "    f_x4 = sy.diff(f, var4)\n",
    "    if f_x4 != 0:\n",
    "        print(f'Ableitung nach {var4}: {f_x4}')   \n",
    "    f_x4 = f_x4.subs({var1: x1, var2: x2, var3: x3, var5: x5})\n",
    "    f_x5 = sy.diff(f, var5)\n",
    "    if f_x5 != 0:\n",
    "        print(f'Ableitung nach {var5}: {f_x5}')   \n",
    "    f_x5 = f_x5.subs({var1: x1, var2: x2, var3: x3, var4: x4})\n",
    "\n",
    "    # feste paramter numerisch machen\n",
    "    f = f.subs(fix_parameters)\n",
    "    f_x1 = f_x1.subs(fix_parameters)\n",
    "    f_x2 = f_x2.subs(fix_parameters)\n",
    "    f_x3 = f_x3.subs(fix_parameters)\n",
    "    f_x4 = f_x4.subs(fix_parameters)\n",
    "    f_x5 = f_x5.subs(fix_parameters)\n",
    "\n",
    "    value = f.subs({var1: x1, var2: x2, var3: x3, var4: x4, var5: x5})\n",
    "    error = (err1**2*(f_x1.subs(var1, x1))**2+err2**2*(f_x2.subs(var2, x2))**2+err3**2*(f_x3.subs(var3, x3))**2+err4**2*(f_x4.subs(var4, x4))**2+err5**2*(f_x5.subs(var5, x5))**2)**0.5\n",
    "    print(f'Wert: {value} +/- Fehler: {error}')\n",
    "    return (value, error)"
   ]
  },
  {
   "cell_type": "code",
   "execution_count": 6,
   "metadata": {},
   "outputs": [],
   "source": [
    "def gew_mittel(ar_val, ar_err):\n",
    "    value_num = 0\n",
    "    sigma_denom = 0\n",
    "    for i in range(len(ar_val)):\n",
    "        value_num += ar_val[i]/ar_err[i]**2\n",
    "        sigma_denom += 1/ar_err[i]**2\n",
    "    value = value_num/sigma_denom\n",
    "    sigma = (1/sigma_denom)**0.5\n",
    "    print(f'gew. Mittelwert: {value} +/- sigma: {sigma}')\n",
    "    return (value, sigma)"
   ]
  },
  {
   "cell_type": "code",
   "execution_count": 7,
   "metadata": {},
   "outputs": [
    {
     "name": "stdout",
     "output_type": "stream",
     "text": [
      "Ableitung nach t: g*pi**3*t\n",
      "Wert: 15199.9731544005 +/- Fehler: 60799.8926176020\n"
     ]
    },
    {
     "data": {
      "text/plain": [
       "(15199.9731544005, 60799.8926176020)"
      ]
     },
     "execution_count": 7,
     "metadata": {},
     "output_type": "execute_result"
    }
   ],
   "source": [
    "# Beispielaufruf der Funktion zur Gauß'schen Fehlerrechnung\n",
    "# Rückgabenwert: Tupel aus berechnetem Wert und seinem Fehler\n",
    "\n",
    "err_gauss(\n",
    "    g/2*t**2*pi**3,                 # Funktion: benötigt die oben definierten, symbolischen Variablen\n",
    "    t, 10, 20,                      # Variable, Wert der Variable, Fehler der Variable\n",
    ")"
   ]
  },
  {
   "cell_type": "code",
   "execution_count": 13,
   "metadata": {},
   "outputs": [
    {
     "name": "stdout",
     "output_type": "stream",
     "text": [
      "Ableitung nach a: (1 - 0.613496932515337*cos(a)/sqrt(1 - 0.376378486205729*sin(a)**2))*(tan(a - asin(0.613496932515337*sin(a)))**2 + 1)/tan(a + asin(0.613496932515337*sin(a))) - (1 + 0.613496932515337*cos(a)/sqrt(1 - 0.376378486205729*sin(a)**2))*(tan(a + asin(0.613496932515337*sin(a)))**2 + 1)*tan(a - asin(0.613496932515337*sin(a)))/tan(a + asin(0.613496932515337*sin(a)))**2\n",
      "Wert: nan +/- Fehler: nan\n"
     ]
    },
    {
     "data": {
      "text/plain": [
       "(nan, nan)"
      ]
     },
     "execution_count": 13,
     "metadata": {},
     "output_type": "execute_result"
    }
   ],
   "source": [
    "err_gauss(\n",
    "    (sy.tan(a-sy.asin(sy.sin(a)/1.63))/sy.tan(a+sy.asin(sy.sin(a)/1.63))),\n",
    "    a, 0, 0\n",
    ")"
   ]
  },
  {
   "cell_type": "code",
   "execution_count": 9,
   "metadata": {},
   "outputs": [
    {
     "name": "stdout",
     "output_type": "stream",
     "text": [
      "Ableitung nach a: -1/2\n",
      "Wert: 179/2 +/- Fehler: 1.25000000000000\n"
     ]
    },
    {
     "data": {
      "text/plain": [
       "(179/2, 1.25000000000000)"
      ]
     },
     "execution_count": 9,
     "metadata": {},
     "output_type": "execute_result"
    }
   ],
   "source": [
    "#Einfallswinkel\n",
    "err_gauss(\n",
    "    90-a/2,\n",
    "    a, 1, 2.5\n",
    ")"
   ]
  },
  {
   "cell_type": "code",
   "execution_count": 10,
   "metadata": {},
   "outputs": [
    {
     "name": "stdout",
     "output_type": "stream",
     "text": [
      "gew. Mittelwert: 10.000000044444445 +/- sigma: 0.0009999999977777778\n"
     ]
    },
    {
     "data": {
      "text/plain": [
       "(10.000000044444445, 0.0009999999977777778)"
      ]
     },
     "execution_count": 10,
     "metadata": {},
     "output_type": "execute_result"
    }
   ],
   "source": [
    "# Rückgabewert: Tupel aus gewichteten Mittelwert und seinem Fehler\n",
    "\n",
    "gew_mittel(\n",
    "    [10, 20],                       # Liste/Array mit Werten\n",
    "    [0.001, 15]                     # Liste/Array mit Fehlern der Werte\n",
    ")"
   ]
  }
 ],
 "metadata": {
  "interpreter": {
   "hash": "31f2aee4e71d21fbe5cf8b01ff0e069b9275f58929596ceb00d14d90e3e16cd6"
  },
  "kernelspec": {
   "display_name": "Python 3.8.10 64-bit",
   "language": "python",
   "name": "python3"
  },
  "language_info": {
   "codemirror_mode": {
    "name": "ipython",
    "version": 3
   },
   "file_extension": ".py",
   "mimetype": "text/x-python",
   "name": "python",
   "nbconvert_exporter": "python",
   "pygments_lexer": "ipython3",
   "version": "3.10.6"
  },
  "orig_nbformat": 4
 },
 "nbformat": 4,
 "nbformat_minor": 2
}
