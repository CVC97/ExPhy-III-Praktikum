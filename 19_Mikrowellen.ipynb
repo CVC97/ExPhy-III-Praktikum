{
 "cells": [
  {
   "cell_type": "code",
   "execution_count": 1,
   "metadata": {},
   "outputs": [],
   "source": [
    "import numpy as np\n",
    "import matplotlib.pyplot as plt\n",
    "from scipy import optimize"
   ]
  },
  {
   "cell_type": "code",
   "execution_count": null,
   "metadata": {},
   "outputs": [],
   "source": [
    "fig, ax = plt.subplots(figsize=(10,6))\n",
    "#ax.set_title(r'Korrigierte Steigungen $mr^2$ für variierte Kugelradien')  \n",
    "ax.set_xlabel(r'Ladung $Q$ in nC')\n",
    "ax.set_ylabel(r'Ladung $\\widetilde{Q}$ in Skt')\n",
    "ax.grid()\n",
    "ax.grid(which='minor', color='#999999', alpha=0.2, linestyle='-')\n",
    "ax.minorticks_on()\n",
    "#ax.errorbar(Q, Q_tilde, Q_tilde_err, xerr = Q_err, fmt='.', color = 'black', alpha = 0.75, linewidth=1, ecolor=\"black\", capsize=3, label = 'Messwerte mit Fehlerbalken')\n",
    "#ax.plot(xplot, xplot*params_gamma[0]+params_gamma[1],  color = 'red', alpha = 0.75, linewidth=1.5, label = 'lineare Regression', linestyle = '--')\n",
    "\n",
    "ax.legend()\n",
    "ax.legend(loc=\"upper left\")\n",
    "plt.savefig('MvS_gamma.png', facecolor = 'white', bbox_inches='tight')\n",
    "plt.show()"
   ]
  }
 ],
 "metadata": {
  "kernelspec": {
   "display_name": "Python 3.10.6 64-bit",
   "language": "python",
   "name": "python3"
  },
  "language_info": {
   "codemirror_mode": {
    "name": "ipython",
    "version": 3
   },
   "file_extension": ".py",
   "mimetype": "text/x-python",
   "name": "python",
   "nbconvert_exporter": "python",
   "pygments_lexer": "ipython3",
   "version": "3.10.6"
  },
  "orig_nbformat": 4,
  "vscode": {
   "interpreter": {
    "hash": "916dbcbb3f70747c44a77c7bcd40155683ae19c65e1c03b4aa3499c5328201f1"
   }
  }
 },
 "nbformat": 4,
 "nbformat_minor": 2
}
