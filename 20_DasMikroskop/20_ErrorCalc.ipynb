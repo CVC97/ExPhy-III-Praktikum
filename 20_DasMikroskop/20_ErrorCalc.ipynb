{
 "cells": [
  {
   "cell_type": "code",
   "execution_count": 22,
   "metadata": {},
   "outputs": [],
   "source": [
    "import sympy as sy\n",
    "import numpy as np\n",
    "\n",
    "nondef1, nondef2, nondef3, nondef4, nondef5 = sy.symbols('nondef1, nondef2, nondef3, nondef4, nondef5')      "
   ]
  },
  {
   "cell_type": "code",
   "execution_count": 23,
   "metadata": {},
   "outputs": [],
   "source": [
    "# feste Parameter und ihre Zahlenwerte: diese werden später in der Fehlerfunktion numerisch gemacht aber bleiben für die partiellen Ableitungen symbolisch\n",
    "g, pi, mu_0, G, N = sy.symbols('g, pi, mu_0, G, N')            \n",
    "                                                \n",
    "fix_parameters = {\n",
    "    G: 6.672 * 10 ** (-11),\n",
    "    g: 9.81, \n",
    "    pi: 3.141,\n",
    "    mu_0: 4 * np.pi * 10 **(-7),\n",
    "}   "
   ]
  },
  {
   "cell_type": "code",
   "execution_count": 24,
   "metadata": {},
   "outputs": [],
   "source": [
    "# verwendbare, symbolische Variablen, Zusätzliche einfach hinzufügen\n",
    "t, b1, b2, b, L, a, d, s = sy.symbols('t, b1, b2, b, L, a, d, s')                     "
   ]
  },
  {
   "cell_type": "code",
   "execution_count": 25,
   "metadata": {},
   "outputs": [],
   "source": [
    "def err_gauss(f, var1, x1, err1, var2=nondef1, x2=0, err2=0, var3=nondef2, x3=0, err3=0, var4=nondef3, x4=0, err4=0, var5=nondef4, x5=0, err5=0):\n",
    "    f_x1 = sy.diff(f, var1)\n",
    "    print(f'Ableitung nach {var1}: {f_x1}')   \n",
    "    f_x1 = f_x1.subs({var2: x2, var3: x3, var4: x4, var5: x5})\n",
    "    f_x2 = sy.diff(f, var2)\n",
    "    if f_x2 != 0:\n",
    "        print(f'Ableitung nach {var2}: {f_x2}')   \n",
    "    f_x2 = f_x2.subs({var1: x1, var3: x3, var4: x4, var5: x5})\n",
    "    f_x3 = sy.diff(f, var3)\n",
    "    if f_x3 != 0:\n",
    "        print(f'Ableitung nach {var3}: {f_x3}')   \n",
    "    f_x3 = f_x3.subs({var1: x1, var2: x2, var4: x4, var5: x5})\n",
    "    f_x4 = sy.diff(f, var4)\n",
    "    if f_x4 != 0:\n",
    "        print(f'Ableitung nach {var4}: {f_x4}')   \n",
    "    f_x4 = f_x4.subs({var1: x1, var2: x2, var3: x3, var5: x5})\n",
    "    f_x5 = sy.diff(f, var5)\n",
    "    if f_x5 != 0:\n",
    "        print(f'Ableitung nach {var5}: {f_x5}')   \n",
    "    f_x5 = f_x5.subs({var1: x1, var2: x2, var3: x3, var4: x4})\n",
    "\n",
    "    # feste paramter numerisch machen\n",
    "    f = f.subs(fix_parameters)\n",
    "    f_x1 = f_x1.subs(fix_parameters)\n",
    "    f_x2 = f_x2.subs(fix_parameters)\n",
    "    f_x3 = f_x3.subs(fix_parameters)\n",
    "    f_x4 = f_x4.subs(fix_parameters)\n",
    "    f_x5 = f_x5.subs(fix_parameters)\n",
    "\n",
    "    value = f.subs({var1: x1, var2: x2, var3: x3, var4: x4, var5: x5})\n",
    "    error = (err1**2*(f_x1.subs(var1, x1))**2+err2**2*(f_x2.subs(var2, x2))**2+err3**2*(f_x3.subs(var3, x3))**2+err4**2*(f_x4.subs(var4, x4))**2+err5**2*(f_x5.subs(var5, x5))**2)**0.5\n",
    "    print(f'Wert: {value} +/- Fehler: {error}')\n",
    "    return (value, error)"
   ]
  },
  {
   "cell_type": "code",
   "execution_count": 26,
   "metadata": {},
   "outputs": [],
   "source": [
    "def gew_mittel(ar_val, ar_err):\n",
    "    value_num = 0\n",
    "    sigma_denom = 0\n",
    "    for i in range(len(ar_val)):\n",
    "        value_num += ar_val[i]/ar_err[i]**2\n",
    "        sigma_denom += 1/ar_err[i]**2\n",
    "    value = value_num/sigma_denom\n",
    "    sigma = (1/sigma_denom)**0.5\n",
    "    print(f'gew. Mittelwert: {value} +/- sigma: {sigma}')\n",
    "    return (value, sigma)"
   ]
  },
  {
   "cell_type": "code",
   "execution_count": 27,
   "metadata": {},
   "outputs": [
    {
     "name": "stdout",
     "output_type": "stream",
     "text": [
      "Ableitung nach t: g*pi**3*t\n",
      "Wert: 15199.9731544005 +/- Fehler: 60799.8926176020\n"
     ]
    },
    {
     "data": {
      "text/plain": [
       "(15199.9731544005, 60799.8926176020)"
      ]
     },
     "execution_count": 27,
     "metadata": {},
     "output_type": "execute_result"
    }
   ],
   "source": [
    "# Beispielaufruf der Funktion zur Gauß'schen Fehlerrechnung\n",
    "# Rückgabenwert: Tupel aus berechnetem Wert und seinem Fehler\n",
    "\n",
    "err_gauss(\n",
    "    g/2*t**2*pi**3,                 # Funktion: benötigt die oben definierten, symbolischen Variablen\n",
    "    t, 10, 20,                      # Variable, Wert der Variable, Fehler der Variable\n",
    ")"
   ]
  },
  {
   "cell_type": "code",
   "execution_count": 28,
   "metadata": {},
   "outputs": [
    {
     "name": "stdout",
     "output_type": "stream",
     "text": [
      "gew. Mittelwert: 10.000000044444445 +/- sigma: 0.0009999999977777778\n"
     ]
    },
    {
     "data": {
      "text/plain": [
       "(10.000000044444445, 0.0009999999977777778)"
      ]
     },
     "execution_count": 28,
     "metadata": {},
     "output_type": "execute_result"
    }
   ],
   "source": [
    "# Rückgabewert: Tupel aus gewichteten Mittelwert und seinem Fehler\n",
    "\n",
    "gew_mittel(\n",
    "    [10, 20],                       # Liste/Array mit Werten\n",
    "    [0.001, 15]                     # Liste/Array mit Fehlern der Werte\n",
    ")"
   ]
  },
  {
   "cell_type": "code",
   "execution_count": 29,
   "metadata": {},
   "outputs": [
    {
     "name": "stdout",
     "output_type": "stream",
     "text": [
      "Ableitung nach a: -b/a**2\n",
      "Ableitung nach b: 1/a\n",
      "Wert: 112.000000000000 +/- Fehler: 1.00000000000000\n",
      "Ableitung nach a: -b/a**2\n",
      "Ableitung nach b: 1/a\n",
      "Wert: 114.000000000000 +/- Fehler: 1.00000000000000\n",
      "gew. Mittelwert: 112.66666666666667 +/- sigma: 0.5773502691896257\n"
     ]
    },
    {
     "data": {
      "text/plain": [
       "(112.66666666666667, 0.5773502691896257)"
      ]
     },
     "execution_count": 29,
     "metadata": {},
     "output_type": "execute_result"
    }
   ],
   "source": [
    "#GesamtVergrößerung10\n",
    "\n",
    "err_gauss(\n",
    "    b/a,\n",
    "    a, 10*0.00005, 0,\n",
    "    b, 0.056, 0.0005\n",
    ")\n",
    "\n",
    "err_gauss(\n",
    "    b/a,\n",
    "    a, 10*0.00005, 0,\n",
    "    b, 0.057, 0.0005\n",
    ")\n",
    "\n",
    "gew_mittel(\n",
    "    [112,112,114],\n",
    "    [1,1,1]\n",
    ")"
   ]
  },
  {
   "cell_type": "code",
   "execution_count": 30,
   "metadata": {},
   "outputs": [
    {
     "name": "stdout",
     "output_type": "stream",
     "text": [
      "Ableitung nach a: -b/a**2\n",
      "Ableitung nach b: 1/a\n",
      "Wert: 420.000000000000 +/- Fehler: 10.0000000000000\n",
      "Ableitung nach a: -b/a**2\n",
      "Ableitung nach b: 1/a\n",
      "Wert: 460.000000000000 +/- Fehler: 10.0000000000000\n",
      "gew. Mittelwert: 446.6666666666667 +/- sigma: 5.773502691896258\n"
     ]
    },
    {
     "data": {
      "text/plain": [
       "(446.6666666666667, 5.773502691896258)"
      ]
     },
     "execution_count": 30,
     "metadata": {},
     "output_type": "execute_result"
    }
   ],
   "source": [
    "#GesamtVergrößerung40\n",
    "\n",
    "err_gauss(\n",
    "    b/a,\n",
    "    a, 0.00005, 0,\n",
    "    b, 0.021, 0.0005\n",
    ")\n",
    "\n",
    "err_gauss(\n",
    "    b/a,\n",
    "    a, 0.00005, 0,\n",
    "    b, 0.023, 0.0005\n",
    ")\n",
    "\n",
    "gew_mittel(\n",
    "    [420,460,460],\n",
    "    [10,10,10]\n",
    ")"
   ]
  },
  {
   "cell_type": "code",
   "execution_count": 31,
   "metadata": {},
   "outputs": [
    {
     "name": "stdout",
     "output_type": "stream",
     "text": [
      "Ableitung nach a: -b/a**2\n",
      "Ableitung nach b: 1/a\n",
      "Wert: 10.0000000000000 +/- Fehler: 0.500000000000000\n",
      "Ableitung nach a: -b/a**2\n",
      "Ableitung nach b: 1/a\n",
      "Wert: 10.1000000000000 +/- Fehler: 0.500000000000000\n",
      "Ableitung nach a: -b/a**2\n",
      "Ableitung nach b: 1/a\n",
      "Wert: 9.90000000000000 +/- Fehler: 0.500000000000000\n",
      "gew. Mittelwert: 10.0 +/- sigma: 0.28867513459481287\n"
     ]
    },
    {
     "data": {
      "text/plain": [
       "(10.0, 0.28867513459481287)"
      ]
     },
     "execution_count": 31,
     "metadata": {},
     "output_type": "execute_result"
    }
   ],
   "source": [
    "#Objektivvergrößerung 10\n",
    "\n",
    "err_gauss(\n",
    "    b/a,\n",
    "    a, 20*0.00005, 0,\n",
    "    b, 0.01, 0.0005\n",
    ")\n",
    "\n",
    "err_gauss(\n",
    "    b/a,\n",
    "    a, 20*0.00005, 0,\n",
    "    b, 0.0101, 0.0005\n",
    ")\n",
    "\n",
    "err_gauss(\n",
    "    b/a,\n",
    "    a, 20*0.00005, 0,\n",
    "    b, 0.0099, 0.0005\n",
    ")\n",
    "\n",
    "gew_mittel(\n",
    "    [10,10.1,9.9],\n",
    "    [0.5,0.5,0.5]\n",
    ")"
   ]
  },
  {
   "cell_type": "code",
   "execution_count": 32,
   "metadata": {},
   "outputs": [
    {
     "name": "stdout",
     "output_type": "stream",
     "text": [
      "Ableitung nach a: -b/a**2\n",
      "Ableitung nach b: 1/a\n",
      "Wert: 39.6000000000000 +/- Fehler: 2.00000000000000\n",
      "Ableitung nach a: -b/a**2\n",
      "Ableitung nach b: 1/a\n",
      "Wert: 40.4000000000000 +/- Fehler: 2.00000000000000\n",
      "Ableitung nach a: -b/a**2\n",
      "Ableitung nach b: 1/a\n",
      "Wert: 40.4000000000000 +/- Fehler: 2.00000000000000\n",
      "gew. Mittelwert: 40.0 +/- sigma: 1.1547005383792515\n"
     ]
    },
    {
     "data": {
      "text/plain": [
       "(40.0, 1.1547005383792515)"
      ]
     },
     "execution_count": 32,
     "metadata": {},
     "output_type": "execute_result"
    }
   ],
   "source": [
    "#Objektivvergrößerung 40\n",
    "\n",
    "err_gauss(\n",
    "    b/a,\n",
    "    a, 5*0.00005, 0,\n",
    "    b, 0.0099, 0.0005\n",
    ")\n",
    "\n",
    "err_gauss(\n",
    "    b/a,\n",
    "    a, 5*0.00005, 0,\n",
    "    b, 0.0101, 0.0005\n",
    ")\n",
    "\n",
    "err_gauss(\n",
    "    b/a,\n",
    "    a, 5*0.00005, 0,\n",
    "    b, 0.0101, 0.0005\n",
    ")\n",
    "\n",
    "gew_mittel(\n",
    "    [40,40,40],\n",
    "    [2,2,2]\n",
    ")"
   ]
  },
  {
   "cell_type": "code",
   "execution_count": 33,
   "metadata": {},
   "outputs": [
    {
     "name": "stdout",
     "output_type": "stream",
     "text": [
      "Ableitung nach a: 1/b\n",
      "Ableitung nach b: -a/b**2\n",
      "Wert: 11.2700000000000 +/- Fehler: 0.343382600025103\n",
      "Ableitung nach a: 1/b\n",
      "Ableitung nach b: -a/b**2\n",
      "Wert: 447/40 +/- Fehler: 0.367277228398386\n"
     ]
    },
    {
     "data": {
      "text/plain": [
       "(447/40, 0.367277228398386)"
      ]
     },
     "execution_count": 33,
     "metadata": {},
     "output_type": "execute_result"
    }
   ],
   "source": [
    "#Okularvergrößerung\n",
    "\n",
    "err_gauss(\n",
    "    a/b,\n",
    "    a, 112.7, 0.6,\n",
    "    b, 10, 0.3\n",
    ")\n",
    "\n",
    "err_gauss(\n",
    "    a/b,\n",
    "    a, 447, 6,\n",
    "    b, 40, 1.2\n",
    ")"
   ]
  },
  {
   "cell_type": "code",
   "execution_count": 34,
   "metadata": {},
   "outputs": [
    {
     "name": "stdout",
     "output_type": "stream",
     "text": [
      "Ableitung nach a: -1\n",
      "Ableitung nach b: 1\n",
      "Wert: 0.0805000000000000 +/- Fehler: 0.0000707106781186548\n"
     ]
    },
    {
     "data": {
      "text/plain": [
       "(0.0805000000000000, 7.07106781186548e-5)"
      ]
     },
     "execution_count": 34,
     "metadata": {},
     "output_type": "execute_result"
    }
   ],
   "source": [
    "#Tubendifferenz\n",
    "\n",
    "err_gauss(\n",
    "    b-a,\n",
    "    a, 0.0403, 0.00005,\n",
    "    b, 0.1208, 0.00005\n",
    ")"
   ]
  },
  {
   "cell_type": "code",
   "execution_count": 35,
   "metadata": {},
   "outputs": [
    {
     "name": "stdout",
     "output_type": "stream",
     "text": [
      "Ableitung nach a: 1/b\n",
      "Ableitung nach b: -a/b**2\n",
      "Wert: 8.70000000000000 +/- Fehler: 0.0500000000000000\n",
      "Ableitung nach a: 1/b\n",
      "Ableitung nach b: -a/b**2\n",
      "Wert: 8.70000000000000 +/- Fehler: 0.0500000000000000\n",
      "Ableitung nach a: 1/b\n",
      "Ableitung nach b: -a/b**2\n",
      "Wert: 8.80000000000000 +/- Fehler: 0.0500000000000000\n",
      "gew. Mittelwert: 8.733333333333334 +/- sigma: 0.02886751345948129\n",
      "Ableitung nach a: 1/b\n",
      "Ableitung nach b: -a/b**2\n",
      "Wert: 13.1000000000000 +/- Fehler: 0.0500000000000000\n",
      "gew. Mittelwert: 13.1 +/- sigma: 0.02886751345948129\n",
      "Ableitung nach b1: 1/(a - b)\n",
      "Ableitung nach a: -b1/(a - b)**2\n",
      "Ableitung nach b: b1/(a - b)**2\n",
      "Wert: 0.0184210526315790 +/- Fehler: 0.000179776404860691\n"
     ]
    },
    {
     "data": {
      "text/plain": [
       "(0.0184210526315790, 0.000179776404860691)"
      ]
     },
     "execution_count": 35,
     "metadata": {},
     "output_type": "execute_result"
    }
   ],
   "source": [
    "#Brennweite 10\n",
    "\n",
    "err_gauss(\n",
    "    a/b,\n",
    "    a, 0.0087, 0.00005,\n",
    "    b, 20*0.00005, 0\n",
    ")\n",
    "err_gauss(\n",
    "    a/b,\n",
    "    a, 0.0087, 0.00005,\n",
    "    b, 20*0.00005, 0\n",
    ")\n",
    "err_gauss(\n",
    "    a/b,\n",
    "    a, 0.0088, 0.00005,\n",
    "    b, 20*0.00005, 0\n",
    ")\n",
    "gew_mittel(\n",
    "    [8.7,8.7,8.8],\n",
    "    [0.05,0.05,0.05]\n",
    ")\n",
    "err_gauss(\n",
    "    a/b,\n",
    "    a, 0.0131, 0.00005,\n",
    "    b, 20*0.00005, 0\n",
    ")\n",
    "gew_mittel(\n",
    "    [13.1,13.1,13.1],\n",
    "    [0.05,0.05,0.05]\n",
    ")\n",
    "err_gauss(\n",
    "    (b1)/(a-b),\n",
    "    b1, 0.0805, 0.00008,\n",
    "    a, 13.1, 0.03,\n",
    "    b, 8.73, 0.03\n",
    ")"
   ]
  },
  {
   "cell_type": "code",
   "execution_count": 36,
   "metadata": {},
   "outputs": [
    {
     "name": "stdout",
     "output_type": "stream",
     "text": [
      "Ableitung nach a: 1/b\n",
      "Ableitung nach b: -a/b**2\n",
      "Wert: 36.4000000000000 +/- Fehler: 0.200000000000000\n",
      "Ableitung nach a: 1/b\n",
      "Ableitung nach b: -a/b**2\n",
      "Wert: 36.0000000000000 +/- Fehler: 0.200000000000000\n",
      "gew. Mittelwert: 36.26666666666666 +/- sigma: 0.11547005383792516\n",
      "Ableitung nach a: 1/b\n",
      "Ableitung nach b: -a/b**2\n",
      "Wert: 54.4000000000000 +/- Fehler: 0.200000000000000\n",
      "Ableitung nach a: 1/b\n",
      "Ableitung nach b: -a/b**2\n",
      "Wert: 53.2000000000000 +/- Fehler: 0.200000000000000\n",
      "gew. Mittelwert: 53.6 +/- sigma: 0.11547005383792516\n",
      "Ableitung nach b1: 1/(a - b)\n",
      "Ableitung nach a: -b1/(a - b)**2\n",
      "Ableitung nach b: b1/(a - b)**2\n",
      "Wert: 0.00464512406231968 +/- Fehler: 0.0000457214451645255\n"
     ]
    },
    {
     "data": {
      "text/plain": [
       "(0.00464512406231968, 4.57214451645255e-5)"
      ]
     },
     "execution_count": 36,
     "metadata": {},
     "output_type": "execute_result"
    }
   ],
   "source": [
    "#Brennweite 40\n",
    "\n",
    "err_gauss(\n",
    "    a/b,\n",
    "    a, 0.0091, 0.00005,\n",
    "    b, 5*0.00005, 0\n",
    ")\n",
    "err_gauss(\n",
    "    a/b,\n",
    "    a, 0.009, 0.00005,\n",
    "    b, 5*0.00005, 0\n",
    ")\n",
    "gew_mittel(\n",
    "    [36.4,36.4,36],\n",
    "    [0.2,0.2,0.2]\n",
    ")\n",
    "err_gauss(\n",
    "    a/b,\n",
    "    a, 0.0136, 0.00005,\n",
    "    b, 5*0.00005, 0\n",
    ")\n",
    "err_gauss(\n",
    "    a/b,\n",
    "    a, 0.0133, 0.00005,\n",
    "    b, 5*0.00005, 0\n",
    ")\n",
    "gew_mittel(\n",
    "    [54.4,53.2,53.2],\n",
    "    [0.2,0.2,0.2]\n",
    ")\n",
    "err_gauss(\n",
    "    (b1)/(a-b),\n",
    "    b1, 0.0805, 0.00008,\n",
    "    a, 53.60, 0.12,\n",
    "    b, 36.27, 0.12\n",
    ")"
   ]
  },
  {
   "cell_type": "code",
   "execution_count": 37,
   "metadata": {},
   "outputs": [
    {
     "name": "stdout",
     "output_type": "stream",
     "text": [
      "Ableitung nach b1: -1\n",
      "Ableitung nach b2: 1\n",
      "Wert: 0.199999999999999 +/- Fehler: 0.0707106781186548\n"
     ]
    },
    {
     "data": {
      "text/plain": [
       "(0.199999999999999, 0.0707106781186548)"
      ]
     },
     "execution_count": 37,
     "metadata": {},
     "output_type": "execute_result"
    }
   ],
   "source": [
    "# Spaltbreite b\n",
    "err_gauss(\n",
    "    b2-b1,\n",
    "    b1, 27.62, 0.05,\n",
    "    b2, 27.82, 0.05,\n",
    ")"
   ]
  },
  {
   "cell_type": "code",
   "execution_count": 38,
   "metadata": {},
   "outputs": [
    {
     "name": "stdout",
     "output_type": "stream",
     "text": [
      "Ableitung nach b: -2*L*lambdaaaa/b**2\n",
      "Ableitung nach L: 2*lambdaaaa/b\n",
      "Wert: 0.000262500000000000 +/- Fehler: 0.0000928694919715969\n"
     ]
    },
    {
     "data": {
      "text/plain": [
       "(0.000262500000000000, 9.28694919715969e-5)"
      ]
     },
     "execution_count": 38,
     "metadata": {},
     "output_type": "execute_result"
    }
   ],
   "source": [
    "# Auflösung\n",
    "\n",
    "lambdaaaa = sy.symbols('lambdaaaa')\n",
    "fix_parameters[lambdaaaa] = 750*10**(-9)\n",
    "\n",
    "err_gauss(\n",
    "    2*L*lambdaaaa/b,\n",
    "    b, 0.0002, 0.0000707,\n",
    "    L, 0.035, 0.0005,\n",
    ")"
   ]
  },
  {
   "cell_type": "code",
   "execution_count": 39,
   "metadata": {},
   "outputs": [
    {
     "name": "stdout",
     "output_type": "stream",
     "text": [
      "Ableitung nach d: -0.1875*d**2/(L**2 + d**2/4)**1.5 + 0.75/(L**2 + d**2/4)**0.5\n",
      "Ableitung nach L: -0.75*L*d/(L**2 + d**2/4)**1.5\n",
      "Wert: 0.138689077892869 +/- Fehler: 0.0107580456769595\n"
     ]
    },
    {
     "data": {
      "text/plain": [
       "(0.138689077892869, 0.0107580456769595)"
      ]
     },
     "execution_count": 39,
     "metadata": {},
     "output_type": "execute_result"
    }
   ],
   "source": [
    "# numerische Apertur \n",
    "n_pl = 1.5\n",
    "\n",
    "err_gauss(\n",
    "    n_pl*d/2/(L**2+d**2/4)**0.5,\n",
    "    d, 6.5*10**(-3), 0.5*10**(-3),\n",
    "    L, 35*10**(-3), 0.5*10**(-3),\n",
    ")"
   ]
  },
  {
   "cell_type": "code",
   "execution_count": 42,
   "metadata": {},
   "outputs": [
    {
     "name": "stdout",
     "output_type": "stream",
     "text": [
      "Ableitung nach N: -lambdaaaa/N**2\n",
      "Wert: 0.00000540777984391345 +/- Fehler: 4.19478905301404E-7\n"
     ]
    },
    {
     "data": {
      "text/plain": [
       "(5.40777984391345e-6, 4.19478905301404e-7)"
      ]
     },
     "execution_count": 42,
     "metadata": {},
     "output_type": "execute_result"
    }
   ],
   "source": [
    "# Auflösung aus numerischer Apertur \n",
    "\n",
    "fix_parameters[lambdaaaa] = 750*10**(-9)\n",
    "\n",
    "err_gauss(\n",
    "    lambdaaaa/N,\n",
    "    N, 0.138689077892869, 0.0107580456769595,\n",
    ")"
   ]
  }
 ],
 "metadata": {
  "interpreter": {
   "hash": "31f2aee4e71d21fbe5cf8b01ff0e069b9275f58929596ceb00d14d90e3e16cd6"
  },
  "kernelspec": {
   "display_name": "Python 3.8.10 64-bit",
   "language": "python",
   "name": "python3"
  },
  "language_info": {
   "codemirror_mode": {
    "name": "ipython",
    "version": 3
   },
   "file_extension": ".py",
   "mimetype": "text/x-python",
   "name": "python",
   "nbconvert_exporter": "python",
   "pygments_lexer": "ipython3",
   "version": "3.10.6"
  },
  "orig_nbformat": 4
 },
 "nbformat": 4,
 "nbformat_minor": 2
}
